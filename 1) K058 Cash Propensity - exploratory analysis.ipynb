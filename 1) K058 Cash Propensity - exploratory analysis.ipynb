{
 "cells": [
  {
   "cell_type": "markdown",
   "metadata": {},
   "source": [
    "https://www.kaggle.com/bananuhbeatdown/logistic-regression-and-knn-predictors"
   ]
  },
  {
   "cell_type": "markdown",
   "metadata": {},
   "source": [
    "## Exploratory analysis of cash approaches to identify association between a supporters behaviour and likelihood of donating and Logistic Regression & KNN models  \n",
    "\n",
    "The data sample includes DM cash appeals from 2014 and subsequently supporters approached via those campaign codes (no special treatment has been applied to understand if the appeal was emergency or core, Christmas or otherwise).  The data was then refined to only include one instance per supporter - leaving the most recent approach per supporter.  This was done to remove any bias that might be learnt from supporters we tend to approach more often.  The data was generated using the script \"K058 Learning data sample\" in the working folder of project K058.  \n",
    "\n",
    "Since the outcome is binary I would like to explore a logistic regression model and K-Nearest Neighbour - KNN might be better if only one or two features are capable of splitting/ categorising suporter into donate/ does not donate. Whilst logistic regression is better suited to data that is highly correlated.\n",
    "\n",
    "<img src = \"class vs reg.png\">"
   ]
  },
  {
   "cell_type": "code",
   "execution_count": 1,
   "metadata": {
    "collapsed": true
   },
   "outputs": [],
   "source": [
    "import pypyodbc , pandas as pd ## I ran \"pip install pypyodbc\" from the command line \n",
    "import matplotlib.pyplot as plt\n",
    "import seaborn as sns \n",
    "import numpy as np \n",
    "%matplotlib inline \n",
    "\n",
    "pd.options.mode.chained_assignment = None  # default='warn', this turns off warnings about slicing data "
   ]
  },
  {
   "cell_type": "code",
   "execution_count": 2,
   "metadata": {
    "collapsed": true
   },
   "outputs": [],
   "source": [
    "# Importing data\n",
    "connection = pypyodbc.connect('Driver={SQL Server};'\n",
    "                              'Server=\"enter server name\";'\n",
    "                              'Database = analystdata;'\n",
    "                              'Trusted_Connection=yes;')\n",
    "cursor = connection.cursor()\n",
    "\n",
    "SQLCommand = (\"select * from analystdata.dbo.K058_cashApproached\") \n",
    "cursor.execute(SQLCommand) \n",
    "\n",
    "columns = [column[0] for column in cursor.description]\n",
    "data= cursor.fetchall()\n",
    "\n",
    "for i in range(0,len(data)):\n",
    "    data[i]=tuple(data[i])\n",
    "    \n",
    "df = pd.DataFrame(data, columns = columns)\n",
    "connection.close()"
   ]
  },
  {
   "cell_type": "code",
   "execution_count": 4,
   "metadata": {
    "collapsed": false
   },
   "outputs": [],
   "source": [
    "df.head()\n",
    "# dropping columns which aren't predictors \n",
    "cols_to_drop = ['activitycode', 'campaignname','nlcode','lalmsreferencecode','idcontact','dateprinted','segmentreference',\n",
    "               'trader','publicfr','postcode',\n",
    "               'approachesl3mths','approachesl6mths','approachesl12mths'] # approaches were used to create the ratio fields and aren't predictors themselves.\n",
    "df.drop(cols_to_drop, axis =1, inplace=True,)\n",
    "\n",
    "df['mosaicgrp'] = df['mosaic'].str[:1]\n"
   ]
  },
  {
   "cell_type": "code",
   "execution_count": 5,
   "metadata": {
    "collapsed": false
   },
   "outputs": [
    {
     "name": "stdout",
     "output_type": "stream",
     "text": [
      "0    317301\n",
      "1      7094\n",
      "Name: responded, dtype: int64\n",
      "2.18684011776 % of the sample responded to cash asks.\n"
     ]
    }
   ],
   "source": [
    "df.head(2)\n",
    "rr= df.responded.value_counts()\n",
    "\n",
    "print(rr)\n",
    "print(rr.iloc[1]/len(df)*100,'% of the sample responded to cash asks.')\n",
    "\n",
    "# df.shape "
   ]
  },
  {
   "cell_type": "markdown",
   "metadata": {},
   "source": [
    "### Analysing binary features"
   ]
  },
  {
   "cell_type": "code",
   "execution_count": 27,
   "metadata": {
    "collapsed": false
   },
   "outputs": [
    {
     "data": {
      "text/plain": [
       "haspledge              0.545\n",
       "hadpledge               0.21\n",
       "gaflag                 0.681\n",
       "onlygivestoemer            0\n",
       "firstdonationemer   0.000586\n",
       "campaigner            0.0416\n",
       "dtype: float64"
      ]
     },
     "execution_count": 27,
     "metadata": {},
     "output_type": "execute_result"
    }
   ],
   "source": [
    "##describing integer flags \n",
    "df[['haspledge','hadpledge','gaflag','onlygivestoemer','firstdonationemer','campaigner']].mean()"
   ]
  },
  {
   "cell_type": "markdown",
   "metadata": {},
   "source": [
    "The mean values for \"has pledge\", \"had pledge\" and \"ga flag\" show that slightly over half of the sample currently have a pledge, only 20% of the sample have previously had a pledge and 68% have a gift aid declaration.  \n",
    "\n",
    "Interestingly none of the sample only give to an emergency **CHECK THIS, but for now not including the feature** and a very small proportion of the sample were recruited via an emergency appeal, as confirmed by the \"first donation emer\" flag having a mean of 0.05%  \n",
    "\n",
    "c.4% of the sample are campaigners - which is probably too small to helpfully explain enough observations, however campaigners have a 6% response rate (see below) compared to 2% for non-compaigners..."
   ]
  },
  {
   "cell_type": "code",
   "execution_count": 28,
   "metadata": {
    "collapsed": false
   },
   "outputs": [
    {
     "name": "stdout",
     "output_type": "stream",
     "text": [
      "campaigner       0      1\n",
      "responded                \n",
      "0           304637  12664\n",
      "1             6259    835\n"
     ]
    },
    {
     "data": {
      "text/html": [
       "<div>\n",
       "<table border=\"1\" class=\"dataframe\">\n",
       "  <thead>\n",
       "    <tr style=\"text-align: right;\">\n",
       "      <th>campaigner</th>\n",
       "      <th>0</th>\n",
       "      <th>1</th>\n",
       "    </tr>\n",
       "    <tr>\n",
       "      <th>responded</th>\n",
       "      <th></th>\n",
       "      <th></th>\n",
       "    </tr>\n",
       "  </thead>\n",
       "  <tbody>\n",
       "    <tr>\n",
       "      <th>0</th>\n",
       "      <td>97.99%</td>\n",
       "      <td>93.81%</td>\n",
       "    </tr>\n",
       "    <tr>\n",
       "      <th>1</th>\n",
       "      <td>2.01%</td>\n",
       "      <td>6.19%</td>\n",
       "    </tr>\n",
       "  </tbody>\n",
       "</table>\n",
       "</div>"
      ],
      "text/plain": [
       "campaigner      0      1\n",
       "responded               \n",
       "0          97.99% 93.81%\n",
       "1           2.01%  6.19%"
      ]
     },
     "execution_count": 28,
     "metadata": {},
     "output_type": "execute_result"
    }
   ],
   "source": [
    "pd.options.display.float_format = '{:.2f}%'.format\n",
    "print(pd.crosstab(df.responded, df.campaigner))\n",
    "\n",
    "pd.crosstab(df.responded,df.campaigner).apply(lambda r: r/r.sum()*100, axis=0)"
   ]
  },
  {
   "cell_type": "markdown",
   "metadata": {},
   "source": [
    "If you **don't have a pledge you are more likely to respond** - 2.8% response vs 1.6% if you do have a pledge..."
   ]
  },
  {
   "cell_type": "code",
   "execution_count": 23,
   "metadata": {
    "collapsed": false
   },
   "outputs": [
    {
     "name": "stdout",
     "output_type": "stream",
     "text": [
      "haspledge       0       1\n",
      "responded                \n",
      "0          143460  173841\n",
      "1            4260    2834\n"
     ]
    },
    {
     "data": {
      "text/html": [
       "<div>\n",
       "<table border=\"1\" class=\"dataframe\">\n",
       "  <thead>\n",
       "    <tr style=\"text-align: right;\">\n",
       "      <th>haspledge</th>\n",
       "      <th>0</th>\n",
       "      <th>1</th>\n",
       "    </tr>\n",
       "    <tr>\n",
       "      <th>responded</th>\n",
       "      <th></th>\n",
       "      <th></th>\n",
       "    </tr>\n",
       "  </thead>\n",
       "  <tbody>\n",
       "    <tr>\n",
       "      <th>0</th>\n",
       "      <td>97.12%</td>\n",
       "      <td>98.40%</td>\n",
       "    </tr>\n",
       "    <tr>\n",
       "      <th>1</th>\n",
       "      <td>2.88%</td>\n",
       "      <td>1.60%</td>\n",
       "    </tr>\n",
       "  </tbody>\n",
       "</table>\n",
       "</div>"
      ],
      "text/plain": [
       "haspledge      0      1\n",
       "responded              \n",
       "0         97.12% 98.40%\n",
       "1          2.88%  1.60%"
      ]
     },
     "execution_count": 23,
     "metadata": {},
     "output_type": "execute_result"
    }
   ],
   "source": [
    "print(pd.crosstab(df.responded, df.haspledge))\n",
    "pd.crosstab(df.responded,df.haspledge).apply(lambda r: r/r.sum()*100, axis=0) # axis = 1/0, \n",
    "                                                                          # calculates proportion horizontally/vertically"
   ]
  },
  {
   "cell_type": "markdown",
   "metadata": {},
   "source": [
    "The same applies if you've previously had a pledge (i.e. it's now inactive), although the distinction is less discriminatory - 2.3% haven't had a pledge vs 1.7% response amongst those that have..."
   ]
  },
  {
   "cell_type": "code",
   "execution_count": 22,
   "metadata": {
    "collapsed": false
   },
   "outputs": [
    {
     "name": "stdout",
     "output_type": "stream",
     "text": [
      "hadpledge       0      1\n",
      "responded               \n",
      "0          250514  66787\n",
      "1            5915   1179\n"
     ]
    },
    {
     "data": {
      "text/html": [
       "<div>\n",
       "<table border=\"1\" class=\"dataframe\">\n",
       "  <thead>\n",
       "    <tr style=\"text-align: right;\">\n",
       "      <th>hadpledge</th>\n",
       "      <th>0</th>\n",
       "      <th>1</th>\n",
       "    </tr>\n",
       "    <tr>\n",
       "      <th>responded</th>\n",
       "      <th></th>\n",
       "      <th></th>\n",
       "    </tr>\n",
       "  </thead>\n",
       "  <tbody>\n",
       "    <tr>\n",
       "      <th>0</th>\n",
       "      <td>97.69%</td>\n",
       "      <td>98.27%</td>\n",
       "    </tr>\n",
       "    <tr>\n",
       "      <th>1</th>\n",
       "      <td>2.31%</td>\n",
       "      <td>1.73%</td>\n",
       "    </tr>\n",
       "  </tbody>\n",
       "</table>\n",
       "</div>"
      ],
      "text/plain": [
       "hadpledge      0      1\n",
       "responded              \n",
       "0         97.69% 98.27%\n",
       "1          2.31%  1.73%"
      ]
     },
     "execution_count": 22,
     "metadata": {},
     "output_type": "execute_result"
    }
   ],
   "source": [
    "print(pd.crosstab(df.responded, df.hadpledge))\n",
    "pd.crosstab(df.responded,df.hadpledge).apply(lambda r: r/r.sum()*100, axis=0)"
   ]
  },
  {
   "cell_type": "markdown",
   "metadata": {},
   "source": [
    "Supporters are more likely to donate if they have a **gift aid declaration ** - is this misleading? Donor's will have a gift aid declaration if they have donated previously. So this might be an indication of loyalty rather than a predictor of giving..."
   ]
  },
  {
   "cell_type": "code",
   "execution_count": 21,
   "metadata": {
    "collapsed": false
   },
   "outputs": [
    {
     "name": "stdout",
     "output_type": "stream",
     "text": [
      "gaflag          0       1\n",
      "responded                \n",
      "0          101343  215958\n",
      "1            2056    5038\n"
     ]
    },
    {
     "data": {
      "text/html": [
       "<div>\n",
       "<table border=\"1\" class=\"dataframe\">\n",
       "  <thead>\n",
       "    <tr style=\"text-align: right;\">\n",
       "      <th>gaflag</th>\n",
       "      <th>0</th>\n",
       "      <th>1</th>\n",
       "    </tr>\n",
       "    <tr>\n",
       "      <th>responded</th>\n",
       "      <th></th>\n",
       "      <th></th>\n",
       "    </tr>\n",
       "  </thead>\n",
       "  <tbody>\n",
       "    <tr>\n",
       "      <th>0</th>\n",
       "      <td>98.01%</td>\n",
       "      <td>97.72%</td>\n",
       "    </tr>\n",
       "    <tr>\n",
       "      <th>1</th>\n",
       "      <td>1.99%</td>\n",
       "      <td>2.28%</td>\n",
       "    </tr>\n",
       "  </tbody>\n",
       "</table>\n",
       "</div>"
      ],
      "text/plain": [
       "gaflag         0      1\n",
       "responded              \n",
       "0         98.01% 97.72%\n",
       "1          1.99%  2.28%"
      ]
     },
     "execution_count": 21,
     "metadata": {},
     "output_type": "execute_result"
    }
   ],
   "source": [
    "print(pd.crosstab(df.responded, df.gaflag))\n",
    "pd.crosstab(df.responded,df.gaflag).apply(lambda r: r/r.sum()*100, axis=0)"
   ]
  },
  {
   "cell_type": "markdown",
   "metadata": {},
   "source": [
    "### Analysing continuous features"
   ]
  },
  {
   "cell_type": "markdown",
   "metadata": {},
   "source": [
    "The median **Months since last donation** for **responders** is 6, with a lower quartile of 2 and upper quartile of 13.  \n",
    "In contrast **non-responders** have a median of 27 months since their last donation and an upper quartile of 82 months.  \n",
    "\n",
    "Both responders and non-responders have a large standard deviation (30 & 50, respectively) which suggests a wide range of variance from the mean - what we can say is that you haven't donated in the last 46 months (mean +1std dev) then you're not likely to respond."
   ]
  },
  {
   "cell_type": "code",
   "execution_count": 29,
   "metadata": {
    "collapsed": false
   },
   "outputs": [
    {
     "data": {
      "text/plain": [
       "responded       \n",
       "0          count   94170.000\n",
       "           mean       49.627\n",
       "           std        53.252\n",
       "           min         0.000\n",
       "           25%         6.000\n",
       "           50%        27.000\n",
       "           75%        82.000\n",
       "           max       228.000\n",
       "1          count    6226.000\n",
       "           mean       16.814\n",
       "           std        30.823\n",
       "           min         0.000\n",
       "           25%         2.000\n",
       "           50%         6.000\n",
       "           75%        13.000\n",
       "           max       223.000\n",
       "Name: mthssincelastdonation, dtype: float64"
      ]
     },
     "execution_count": 29,
     "metadata": {},
     "output_type": "execute_result"
    }
   ],
   "source": [
    "pd.options.display.float_format = '{:.3f}'.format\n",
    "df['mthssincelastdonation'].groupby(by = df.responded).describe()\n",
    "# df['mthssincelastdonation'].groupby(by = df.responded)."
   ]
  },
  {
   "cell_type": "markdown",
   "metadata": {},
   "source": [
    "Using ** Months since last donation **, the box plot below shows that responders are more likely to have responded recently...   "
   ]
  },
  {
   "cell_type": "code",
   "execution_count": 6,
   "metadata": {
    "collapsed": false
   },
   "outputs": [
    {
     "data": {
      "text/plain": [
       "<matplotlib.axes._subplots.AxesSubplot at 0x1ef37f60>"
      ]
     },
     "execution_count": 6,
     "metadata": {},
     "output_type": "execute_result"
    },
    {
     "data": {
      "image/png": "[encoded data removed]",
      "text/plain": [
       "<matplotlib.figure.Figure at 0xab97da0>"
      ]
     },
     "metadata": {},
     "output_type": "display_data"
    }
   ],
   "source": [
    "sns.set(style='white')\n",
    "sns.boxplot(x='responded', y='mthssincelastdonation',data =df)"
   ]
  },
  {
   "cell_type": "markdown",
   "metadata": {},
   "source": [
    "The box plot below compares the **months since last ask** for the responders and non-responders.  It shows that the two groups are getting roughly the same number of asks, on average an **ask every 1.5 months**.  Whilst this feature won't be helpful in splitting responders/non-responders it's good to know that both groups are getting the same treatment; we're asking the non-responders but they're just not giving."
   ]
  },
  {
   "cell_type": "code",
   "execution_count": 26,
   "metadata": {
    "collapsed": false
   },
   "outputs": [
    {
     "data": {
      "text/plain": [
       "<matplotlib.axes._subplots.AxesSubplot at 0xff3e588>"
      ]
     },
     "execution_count": 26,
     "metadata": {},
     "output_type": "execute_result"
    },
    {
     "data": {
      "image/png": "[encoded data removed]",
      "text/plain": [
       "<matplotlib.figure.Figure at 0x1c6aa828>"
      ]
     },
     "metadata": {},
     "output_type": "display_data"
    }
   ],
   "source": [
    "sns.boxplot(x='responded', y='mthssincelastask',data =df)"
   ]
  },
  {
   "cell_type": "markdown",
   "metadata": {},
   "source": [
    "The **ratio of responses to asks** (number of responses/ number of asks) across the last 3, 6 and 12 months share similar summary statistics;  On **average supporters are roughly responding to 1 in 5 asks**.  The median is 0, which tells us that the most frequent response is no response - which isn't surprising given a response rate of c.2%.\n",
    "\n",
    "*nb values are null if the supporter hasn't been asked*, this accounts for the majority of the file, over 220k of the 320k records."
   ]
  },
  {
   "cell_type": "code",
   "execution_count": 55,
   "metadata": {
    "collapsed": false,
    "scrolled": true
   },
   "outputs": [
    {
     "name": "stdout",
     "output_type": "stream",
     "text": [
      "not asked in last 3 mths:  228306\n",
      "not asked in last 6 mths:  226304\n",
      "not asked in last 12 mths:  225611\n",
      "total sample size:  324395\n"
     ]
    },
    {
     "data": {
      "text/html": [
       "<div>\n",
       "<table border=\"1\" class=\"dataframe\">\n",
       "  <thead>\n",
       "    <tr style=\"text-align: right;\">\n",
       "      <th></th>\n",
       "      <th>ratioaskstoresponsel3mths</th>\n",
       "      <th>ratioaskstoresponsel6mths</th>\n",
       "      <th>ratioaskstoresponsel12mths</th>\n",
       "    </tr>\n",
       "  </thead>\n",
       "  <tbody>\n",
       "    <tr>\n",
       "      <th>count</th>\n",
       "      <td>96089.00</td>\n",
       "      <td>98091.00</td>\n",
       "      <td>98784.00</td>\n",
       "    </tr>\n",
       "    <tr>\n",
       "      <th>mean</th>\n",
       "      <td>0.21</td>\n",
       "      <td>0.23</td>\n",
       "      <td>0.23</td>\n",
       "    </tr>\n",
       "    <tr>\n",
       "      <th>std</th>\n",
       "      <td>0.67</td>\n",
       "      <td>0.76</td>\n",
       "      <td>0.79</td>\n",
       "    </tr>\n",
       "    <tr>\n",
       "      <th>min</th>\n",
       "      <td>0.00</td>\n",
       "      <td>0.00</td>\n",
       "      <td>0.00</td>\n",
       "    </tr>\n",
       "    <tr>\n",
       "      <th>25%</th>\n",
       "      <td>0.00</td>\n",
       "      <td>0.00</td>\n",
       "      <td>0.00</td>\n",
       "    </tr>\n",
       "    <tr>\n",
       "      <th>50%</th>\n",
       "      <td>0.00</td>\n",
       "      <td>0.00</td>\n",
       "      <td>0.00</td>\n",
       "    </tr>\n",
       "    <tr>\n",
       "      <th>75%</th>\n",
       "      <td>0.00</td>\n",
       "      <td>0.17</td>\n",
       "      <td>0.14</td>\n",
       "    </tr>\n",
       "    <tr>\n",
       "      <th>max</th>\n",
       "      <td>9.00</td>\n",
       "      <td>8.00</td>\n",
       "      <td>19.00</td>\n",
       "    </tr>\n",
       "  </tbody>\n",
       "</table>\n",
       "</div>"
      ],
      "text/plain": [
       "       ratioaskstoresponsel3mths  ratioaskstoresponsel6mths  \\\n",
       "count                   96089.00                   98091.00   \n",
       "mean                        0.21                       0.23   \n",
       "std                         0.67                       0.76   \n",
       "min                         0.00                       0.00   \n",
       "25%                         0.00                       0.00   \n",
       "50%                         0.00                       0.00   \n",
       "75%                         0.00                       0.17   \n",
       "max                         9.00                       8.00   \n",
       "\n",
       "       ratioaskstoresponsel12mths  \n",
       "count                    98784.00  \n",
       "mean                         0.23  \n",
       "std                          0.79  \n",
       "min                          0.00  \n",
       "25%                          0.00  \n",
       "50%                          0.00  \n",
       "75%                          0.14  \n",
       "max                         19.00  "
      ]
     },
     "execution_count": 55,
     "metadata": {},
     "output_type": "execute_result"
    }
   ],
   "source": [
    "print('not asked in last 3 mths: ',df.ratioaskstoresponsel3mths.isnull().sum())\n",
    "print('not asked in last 6 mths: ',df.ratioaskstoresponsel6mths.isnull().sum())\n",
    "print('not asked in last 12 mths: ',df.ratioaskstoresponsel12mths.isnull().sum())\n",
    "print('total sample size: ', len(df))\n",
    "df[['ratioaskstoresponsel3mths','ratioaskstoresponsel6mths','ratioaskstoresponsel12mths']].describe()"
   ]
  },
  {
   "cell_type": "markdown",
   "metadata": {},
   "source": [
    "The plot below shows that responders have a history of responding more, as indicated by a higher ratio. Although a sizeable amount have a ratio of 0 which means they haven't responded in the period of time analysed (3, 6 or 12 mths).  Remember that this feature can only explain 30% of the sample at best, because of the high number of nulls/ not approached."
   ]
  },
  {
   "cell_type": "code",
   "execution_count": 105,
   "metadata": {
    "collapsed": false
   },
   "outputs": [
    {
     "data": {
      "image/png": "[encoded data removed]",
      "text/plain": [
       "<matplotlib.figure.Figure at 0x27a0f0b8>"
      ]
     },
     "metadata": {},
     "output_type": "display_data"
    }
   ],
   "source": [
    "plt.hist(df['ratioaskstoresponsel12mths'][df.responded==1].dropna(), label = 'resp', normed=True, bins=20)\n",
    "plt.hist(df['ratioaskstoresponsel12mths'][df.responded==0].dropna(), label = 'dnr',alpha=0.6,  normed=True, bins=20)\n",
    "plt.title('ratio asks to response last 12 mths')\n",
    "plt.legend()\n",
    "plt.show()"
   ]
  },
  {
   "cell_type": "markdown",
   "metadata": {},
   "source": [
    "The below analyses only **core** asks to responses rate, and displays an identical distribution."
   ]
  },
  {
   "cell_type": "code",
   "execution_count": 106,
   "metadata": {
    "collapsed": false
   },
   "outputs": [
    {
     "data": {
      "image/png": "[encoded data removed]",
      "text/plain": [
       "<matplotlib.figure.Figure at 0x27b3a630>"
      ]
     },
     "metadata": {},
     "output_type": "display_data"
    }
   ],
   "source": [
    "df[['coreratioaskstoresponsel3mths','coreratioaskstoresponsel6mths','coreratioaskstoresponsel12mths']].describe()\n",
    "plt.hist(df['coreratioaskstoresponsel12mths'][df.responded==1].dropna(), label = 'resp', normed=True, bins=20)\n",
    "plt.hist(df['coreratioaskstoresponsel12mths'][df.responded==0].dropna(), label = 'dnr',alpha=0.6,  normed=True, bins=20)\n",
    "plt.title('core ratio asks to response last 12 mths')\n",
    "plt.legend()\n",
    "plt.show()"
   ]
  },
  {
   "cell_type": "markdown",
   "metadata": {},
   "source": [
    "### Analysing categorical features "
   ]
  },
  {
   "cell_type": "markdown",
   "metadata": {},
   "source": [
    "Mosaic groups E,L & C have responses greater than 3%, a sizeable improvement of the average response of 2.1%.  \n",
    "\n",
    "In contrast, O,I & K are less than half the average response.  \n",
    "\n",
    "The pct_total column confirms that each mosaic group holds a sufficient proportion of the total to be a good predictor."
   ]
  },
  {
   "cell_type": "code",
   "execution_count": 4,
   "metadata": {
    "collapsed": false
   },
   "outputs": [
    {
     "data": {
      "text/html": [
       "<div>\n",
       "<table border=\"1\" class=\"dataframe\">\n",
       "  <thead>\n",
       "    <tr style=\"text-align: right;\">\n",
       "      <th></th>\n",
       "      <th>counts</th>\n",
       "      <th>pct_total</th>\n",
       "      <th>rr</th>\n",
       "    </tr>\n",
       "    <tr>\n",
       "      <th>mosaicgrp</th>\n",
       "      <th></th>\n",
       "      <th></th>\n",
       "      <th></th>\n",
       "    </tr>\n",
       "  </thead>\n",
       "  <tbody>\n",
       "    <tr>\n",
       "      <th>E</th>\n",
       "      <td>28146</td>\n",
       "      <td>8.730636</td>\n",
       "      <td>3.815818</td>\n",
       "    </tr>\n",
       "    <tr>\n",
       "      <th>L</th>\n",
       "      <td>14584</td>\n",
       "      <td>4.523826</td>\n",
       "      <td>3.174712</td>\n",
       "    </tr>\n",
       "    <tr>\n",
       "      <th>C</th>\n",
       "      <td>28733</td>\n",
       "      <td>8.912718</td>\n",
       "      <td>3.000035</td>\n",
       "    </tr>\n",
       "    <tr>\n",
       "      <th>B</th>\n",
       "      <td>39968</td>\n",
       "      <td>12.397715</td>\n",
       "      <td>2.942354</td>\n",
       "    </tr>\n",
       "    <tr>\n",
       "      <th>F</th>\n",
       "      <td>17613</td>\n",
       "      <td>5.463394</td>\n",
       "      <td>2.776358</td>\n",
       "    </tr>\n",
       "    <tr>\n",
       "      <th>D</th>\n",
       "      <td>19291</td>\n",
       "      <td>5.983895</td>\n",
       "      <td>2.358613</td>\n",
       "    </tr>\n",
       "    <tr>\n",
       "      <th>G</th>\n",
       "      <td>31813</td>\n",
       "      <td>9.868107</td>\n",
       "      <td>2.134348</td>\n",
       "    </tr>\n",
       "    <tr>\n",
       "      <th>M</th>\n",
       "      <td>9585</td>\n",
       "      <td>2.973181</td>\n",
       "      <td>1.836202</td>\n",
       "    </tr>\n",
       "    <tr>\n",
       "      <th>H</th>\n",
       "      <td>20140</td>\n",
       "      <td>6.247247</td>\n",
       "      <td>1.762661</td>\n",
       "    </tr>\n",
       "    <tr>\n",
       "      <th>A</th>\n",
       "      <td>24182</td>\n",
       "      <td>7.501039</td>\n",
       "      <td>1.645852</td>\n",
       "    </tr>\n",
       "    <tr>\n",
       "      <th>J</th>\n",
       "      <td>11400</td>\n",
       "      <td>3.536178</td>\n",
       "      <td>1.482456</td>\n",
       "    </tr>\n",
       "    <tr>\n",
       "      <th>N</th>\n",
       "      <td>23223</td>\n",
       "      <td>7.203566</td>\n",
       "      <td>1.188477</td>\n",
       "    </tr>\n",
       "    <tr>\n",
       "      <th>O</th>\n",
       "      <td>22441</td>\n",
       "      <td>6.960997</td>\n",
       "      <td>1.020454</td>\n",
       "    </tr>\n",
       "    <tr>\n",
       "      <th>I</th>\n",
       "      <td>12474</td>\n",
       "      <td>3.869323</td>\n",
       "      <td>0.945968</td>\n",
       "    </tr>\n",
       "    <tr>\n",
       "      <th>K</th>\n",
       "      <td>18789</td>\n",
       "      <td>5.828179</td>\n",
       "      <td>0.777050</td>\n",
       "    </tr>\n",
       "  </tbody>\n",
       "</table>\n",
       "</div>"
      ],
      "text/plain": [
       "           counts  pct_total        rr\n",
       "mosaicgrp                             \n",
       "E           28146   8.730636  3.815818\n",
       "L           14584   4.523826  3.174712\n",
       "C           28733   8.912718  3.000035\n",
       "B           39968  12.397715  2.942354\n",
       "F           17613   5.463394  2.776358\n",
       "D           19291   5.983895  2.358613\n",
       "G           31813   9.868107  2.134348\n",
       "M            9585   2.973181  1.836202\n",
       "H           20140   6.247247  1.762661\n",
       "A           24182   7.501039  1.645852\n",
       "J           11400   3.536178  1.482456\n",
       "N           23223   7.203566  1.188477\n",
       "O           22441   6.960997  1.020454\n",
       "I           12474   3.869323  0.945968\n",
       "K           18789   5.828179  0.777050"
      ]
     },
     "execution_count": 4,
     "metadata": {},
     "output_type": "execute_result"
    }
   ],
   "source": [
    "mosaic_resp = pd.crosstab(df.mosaicgrp,df.responded).apply(lambda r: 100*r/r.sum(), axis=1)\n",
    "mosaic_counts = df['gaflag'].groupby(df.mosaicgrp).agg({'counts': 'count'}) #gaflag is arbitrary here, it's like doing count(*)\n",
    "mosaic_counts['pct_total'] =mosaic_counts.apply(lambda r: 100*r/r.sum())\n",
    "mosaic_counts['rr'] =mosaic_resp[1]\n",
    "mosaic_counts.sort_values('rr', ascending=False)\n",
    "\n",
    "# selecting specific columns \n",
    "# mosaic_counts.iloc[:,1:3].sort_values(by='rr')"
   ]
  },
  {
   "cell_type": "markdown",
   "metadata": {},
   "source": [
    "Aggregating mosaic into ** Audience ** profiles shows less discrimination across response rate... WW have the highest response of 3%, where as mosaic above could identify segments that achieve close to 4% response and 0.7%"
   ]
  },
  {
   "cell_type": "code",
   "execution_count": 213,
   "metadata": {
    "collapsed": false
   },
   "outputs": [
    {
     "data": {
      "text/html": [
       "<div>\n",
       "<table border=\"1\" class=\"dataframe\">\n",
       "  <thead>\n",
       "    <tr style=\"text-align: right;\">\n",
       "      <th></th>\n",
       "      <th>counts</th>\n",
       "      <th>pct_total</th>\n",
       "      <th>rr</th>\n",
       "    </tr>\n",
       "    <tr>\n",
       "      <th>audienceprofile2016</th>\n",
       "      <th></th>\n",
       "      <th></th>\n",
       "      <th></th>\n",
       "    </tr>\n",
       "  </thead>\n",
       "  <tbody>\n",
       "    <tr>\n",
       "      <th>Wealthy Wellwishers</th>\n",
       "      <td>46696</td>\n",
       "      <td>14.395</td>\n",
       "      <td>2.979</td>\n",
       "    </tr>\n",
       "    <tr>\n",
       "      <th>Rapid Responders</th>\n",
       "      <td>56297</td>\n",
       "      <td>17.354</td>\n",
       "      <td>2.602</td>\n",
       "    </tr>\n",
       "    <tr>\n",
       "      <th>Not in target</th>\n",
       "      <td>139797</td>\n",
       "      <td>43.095</td>\n",
       "      <td>1.994</td>\n",
       "    </tr>\n",
       "    <tr>\n",
       "      <th>Upwardly Urban</th>\n",
       "      <td>66098</td>\n",
       "      <td>20.376</td>\n",
       "      <td>1.826</td>\n",
       "    </tr>\n",
       "    <tr>\n",
       "      <th>Mindful Mums</th>\n",
       "      <td>13494</td>\n",
       "      <td>4.160</td>\n",
       "      <td>1.586</td>\n",
       "    </tr>\n",
       "    <tr>\n",
       "      <th>Unclassified</th>\n",
       "      <td>2013</td>\n",
       "      <td>0.621</td>\n",
       "      <td>1.441</td>\n",
       "    </tr>\n",
       "  </tbody>\n",
       "</table>\n",
       "</div>"
      ],
      "text/plain": [
       "                     counts  pct_total    rr\n",
       "audienceprofile2016                         \n",
       "Wealthy Wellwishers   46696     14.395 2.979\n",
       "Rapid Responders      56297     17.354 2.602\n",
       "Not in target        139797     43.095 1.994\n",
       "Upwardly Urban        66098     20.376 1.826\n",
       "Mindful Mums          13494      4.160 1.586\n",
       "Unclassified           2013      0.621 1.441"
      ]
     },
     "execution_count": 213,
     "metadata": {},
     "output_type": "execute_result"
    }
   ],
   "source": [
    "aud_resp = pd.crosstab(df.audienceprofile2016,df.responded).apply(lambda r: 100*r/r.sum(), axis=1)\n",
    "aud_counts = df['gaflag'].groupby(df.audienceprofile2016).agg({'counts': 'count'})\n",
    "aud_counts['pct_total'] =aud_counts.apply(lambda r: 100*r/r.sum())\n",
    "aud_counts['rr'] =aud_resp[1]\n",
    "aud_counts.sort_values('rr', ascending=False)"
   ]
  },
  {
   "cell_type": "markdown",
   "metadata": {},
   "source": [
    "** Creating dummies for mosaic ** "
   ]
  },
  {
   "cell_type": "code",
   "execution_count": 241,
   "metadata": {
    "collapsed": false
   },
   "outputs": [
    {
     "data": {
      "text/plain": [
       "2013"
      ]
     },
     "execution_count": 241,
     "metadata": {},
     "output_type": "execute_result"
    }
   ],
   "source": [
    "df.mosaic.isnull().sum()"
   ]
  },
  {
   "cell_type": "code",
   "execution_count": 6,
   "metadata": {
    "collapsed": false
   },
   "outputs": [
    {
     "data": {
      "text/html": [
       "<div>\n",
       "<table border=\"1\" class=\"dataframe\">\n",
       "  <thead>\n",
       "    <tr style=\"text-align: right;\">\n",
       "      <th></th>\n",
       "      <th>responded</th>\n",
       "      <th>mthssincelastdonation</th>\n",
       "      <th>campaigner</th>\n",
       "      <th>gaflag</th>\n",
       "      <th>haspledge</th>\n",
       "      <th>ratioaskstoresponsel12mths</th>\n",
       "      <th>mosaic_A</th>\n",
       "      <th>mosaic_B</th>\n",
       "      <th>mosaic_C</th>\n",
       "      <th>mosaic_D</th>\n",
       "      <th>mosaic_E</th>\n",
       "      <th>mosaic_F</th>\n",
       "      <th>mosaic_G</th>\n",
       "      <th>mosaic_H</th>\n",
       "      <th>mosaic_I</th>\n",
       "      <th>mosaic_J</th>\n",
       "      <th>mosaic_K</th>\n",
       "      <th>mosaic_L</th>\n",
       "      <th>mosaic_M</th>\n",
       "      <th>mosaic_N</th>\n",
       "    </tr>\n",
       "  </thead>\n",
       "  <tbody>\n",
       "    <tr>\n",
       "      <th>0</th>\n",
       "      <td>0</td>\n",
       "      <td>86.0</td>\n",
       "      <td>0</td>\n",
       "      <td>1</td>\n",
       "      <td>1</td>\n",
       "      <td>NaN</td>\n",
       "      <td>0</td>\n",
       "      <td>0</td>\n",
       "      <td>0</td>\n",
       "      <td>0</td>\n",
       "      <td>0</td>\n",
       "      <td>0</td>\n",
       "      <td>0</td>\n",
       "      <td>0</td>\n",
       "      <td>0</td>\n",
       "      <td>0</td>\n",
       "      <td>0</td>\n",
       "      <td>0</td>\n",
       "      <td>0</td>\n",
       "      <td>1</td>\n",
       "    </tr>\n",
       "    <tr>\n",
       "      <th>1</th>\n",
       "      <td>0</td>\n",
       "      <td>3.0</td>\n",
       "      <td>1</td>\n",
       "      <td>0</td>\n",
       "      <td>1</td>\n",
       "      <td>0.142857</td>\n",
       "      <td>0</td>\n",
       "      <td>1</td>\n",
       "      <td>0</td>\n",
       "      <td>0</td>\n",
       "      <td>0</td>\n",
       "      <td>0</td>\n",
       "      <td>0</td>\n",
       "      <td>0</td>\n",
       "      <td>0</td>\n",
       "      <td>0</td>\n",
       "      <td>0</td>\n",
       "      <td>0</td>\n",
       "      <td>0</td>\n",
       "      <td>0</td>\n",
       "    </tr>\n",
       "    <tr>\n",
       "      <th>2</th>\n",
       "      <td>0</td>\n",
       "      <td>0.0</td>\n",
       "      <td>0</td>\n",
       "      <td>1</td>\n",
       "      <td>1</td>\n",
       "      <td>NaN</td>\n",
       "      <td>0</td>\n",
       "      <td>0</td>\n",
       "      <td>0</td>\n",
       "      <td>1</td>\n",
       "      <td>0</td>\n",
       "      <td>0</td>\n",
       "      <td>0</td>\n",
       "      <td>0</td>\n",
       "      <td>0</td>\n",
       "      <td>0</td>\n",
       "      <td>0</td>\n",
       "      <td>0</td>\n",
       "      <td>0</td>\n",
       "      <td>0</td>\n",
       "    </tr>\n",
       "    <tr>\n",
       "      <th>3</th>\n",
       "      <td>0</td>\n",
       "      <td>19.0</td>\n",
       "      <td>0</td>\n",
       "      <td>1</td>\n",
       "      <td>0</td>\n",
       "      <td>NaN</td>\n",
       "      <td>0</td>\n",
       "      <td>0</td>\n",
       "      <td>0</td>\n",
       "      <td>0</td>\n",
       "      <td>0</td>\n",
       "      <td>0</td>\n",
       "      <td>0</td>\n",
       "      <td>0</td>\n",
       "      <td>0</td>\n",
       "      <td>0</td>\n",
       "      <td>0</td>\n",
       "      <td>1</td>\n",
       "      <td>0</td>\n",
       "      <td>0</td>\n",
       "    </tr>\n",
       "    <tr>\n",
       "      <th>4</th>\n",
       "      <td>0</td>\n",
       "      <td>3.0</td>\n",
       "      <td>0</td>\n",
       "      <td>1</td>\n",
       "      <td>0</td>\n",
       "      <td>0.400000</td>\n",
       "      <td>0</td>\n",
       "      <td>1</td>\n",
       "      <td>0</td>\n",
       "      <td>0</td>\n",
       "      <td>0</td>\n",
       "      <td>0</td>\n",
       "      <td>0</td>\n",
       "      <td>0</td>\n",
       "      <td>0</td>\n",
       "      <td>0</td>\n",
       "      <td>0</td>\n",
       "      <td>0</td>\n",
       "      <td>0</td>\n",
       "      <td>0</td>\n",
       "    </tr>\n",
       "  </tbody>\n",
       "</table>\n",
       "</div>"
      ],
      "text/plain": [
       "   responded  mthssincelastdonation  campaigner  gaflag  haspledge  \\\n",
       "0          0                   86.0           0       1          1   \n",
       "1          0                    3.0           1       0          1   \n",
       "2          0                    0.0           0       1          1   \n",
       "3          0                   19.0           0       1          0   \n",
       "4          0                    3.0           0       1          0   \n",
       "\n",
       "   ratioaskstoresponsel12mths  mosaic_A  mosaic_B  mosaic_C  mosaic_D  \\\n",
       "0                         NaN         0         0         0         0   \n",
       "1                    0.142857         0         1         0         0   \n",
       "2                         NaN         0         0         0         1   \n",
       "3                         NaN         0         0         0         0   \n",
       "4                    0.400000         0         1         0         0   \n",
       "\n",
       "   mosaic_E  mosaic_F  mosaic_G  mosaic_H  mosaic_I  mosaic_J  mosaic_K  \\\n",
       "0         0         0         0         0         0         0         0   \n",
       "1         0         0         0         0         0         0         0   \n",
       "2         0         0         0         0         0         0         0   \n",
       "3         0         0         0         0         0         0         0   \n",
       "4         0         0         0         0         0         0         0   \n",
       "\n",
       "   mosaic_L  mosaic_M  mosaic_N  \n",
       "0         0         0         1  \n",
       "1         0         0         0  \n",
       "2         0         0         0  \n",
       "3         1         0         0  \n",
       "4         0         0         0  "
      ]
     },
     "execution_count": 6,
     "metadata": {},
     "output_type": "execute_result"
    }
   ],
   "source": [
    "mosaic = pd.get_dummies(df.mosaicgrp)\n",
    "mosaic.columns = ['mosaic_' + str(i) for i in mosaic.columns]\n",
    "\n",
    "## shortlist of features from univariate analysis above \n",
    "features = ['responded','mthssincelastdonation','campaigner','gaflag','haspledge','ratioaskstoresponsel12mths']\n",
    "model = df[features]\n",
    "model= model.join(mosaic.iloc[:,:14]) # dropping mosaic_O\n",
    "model.head()"
   ]
  },
  {
   "cell_type": "markdown",
   "metadata": {},
   "source": [
    "## Create logistic regression"
   ]
  },
  {
   "cell_type": "code",
   "execution_count": 7,
   "metadata": {
    "collapsed": false
   },
   "outputs": [],
   "source": [
    "##logistic regression doesn't like nulls, so filling...\n",
    "\n",
    "model['mthssincelastdonation'].fillna(999,inplace=True) # null = no previous cash, 0 = gave cash in the current mth as the ask\n",
    "                                                        # because this is a continuous variable the null value needs to be \n",
    "                                                        # monotonic with the existing values\n",
    "\n",
    "        # calc binary flag to see if thats useful\n",
    "model['nopreviouscash'] = model.mthssincelastdonation.apply(lambda x: 1 if x == 999 else 0) \n",
    "\n",
    "\n",
    "## NB DON'T WORRY ABOUT THIS CODE AS ratioaskstoresponsel12mths DOESNT MAKE IT INTO THE FINAL MODEL.\n",
    "##repeating for ratio of asks to responses;\n",
    "# ratioaskstoresponsel12mths\n",
    "# null = not asked \n",
    "# 0 = not responded \n",
    "# >0 responded to an increasing extent \n",
    "# therefore nulls need to be a low number so setting to -1\n",
    "\n",
    "# model['ratioaskstoresponsel12mths'].fillna(-1,inplace=True)\n",
    "\n",
    "\n",
    "# chi2 (used to calc p-value) can't handle negatives, so to avoid use of -1, I've reversed the values of \n",
    "# ratioaskstoresponsel12mths by subtracting the max value.\n",
    "# 19 = max, so \n",
    "# 20 = nulls\n",
    "# 19 = no responses \n",
    "# 18.8 = gave 20% of the time (0.2) \n",
    "# now 0 can be used to override nulls and there is still an order to the values that is meaningful and negative values are \n",
    "# avoided.\n",
    "\n",
    "\n",
    "reverse_val = df.ratioaskstoresponsel12mths.max()\n",
    "model['ratioaskstoresponsel12mths_reversed'] = reverse_val - model['ratioaskstoresponsel12mths']\n",
    "model['ratioaskstoresponsel12mths_reversed'].fillna(reverse_val+1, inplace=True) \n",
    "\n",
    "# model['notasked'] = model.mthssincelastdonation.apply(lambda x: 1 if x == -1 else 0) \n"
   ]
  },
  {
   "cell_type": "code",
   "execution_count": 6,
   "metadata": {
    "collapsed": false
   },
   "outputs": [
    {
     "data": {
      "text/html": [
       "<div>\n",
       "<table border=\"1\" class=\"dataframe\">\n",
       "  <thead>\n",
       "    <tr style=\"text-align: right;\">\n",
       "      <th></th>\n",
       "      <th>ratioaskstoresponsel12mths</th>\n",
       "      <th>ratioaskstoresponsel12mths_reversed</th>\n",
       "    </tr>\n",
       "  </thead>\n",
       "  <tbody>\n",
       "    <tr>\n",
       "      <th>0</th>\n",
       "      <td>NaN</td>\n",
       "      <td>20.000000</td>\n",
       "    </tr>\n",
       "    <tr>\n",
       "      <th>1</th>\n",
       "      <td>0.142857</td>\n",
       "      <td>18.857143</td>\n",
       "    </tr>\n",
       "    <tr>\n",
       "      <th>2</th>\n",
       "      <td>NaN</td>\n",
       "      <td>20.000000</td>\n",
       "    </tr>\n",
       "    <tr>\n",
       "      <th>3</th>\n",
       "      <td>NaN</td>\n",
       "      <td>20.000000</td>\n",
       "    </tr>\n",
       "    <tr>\n",
       "      <th>4</th>\n",
       "      <td>0.400000</td>\n",
       "      <td>18.600000</td>\n",
       "    </tr>\n",
       "  </tbody>\n",
       "</table>\n",
       "</div>"
      ],
      "text/plain": [
       "   ratioaskstoresponsel12mths  ratioaskstoresponsel12mths_reversed\n",
       "0                         NaN                            20.000000\n",
       "1                    0.142857                            18.857143\n",
       "2                         NaN                            20.000000\n",
       "3                         NaN                            20.000000\n",
       "4                    0.400000                            18.600000"
      ]
     },
     "execution_count": 6,
     "metadata": {},
     "output_type": "execute_result"
    }
   ],
   "source": [
    "model[['ratioaskstoresponsel12mths','ratioaskstoresponsel12mths_reversed']].head(5)"
   ]
  },
  {
   "cell_type": "code",
   "execution_count": 8,
   "metadata": {
    "collapsed": true
   },
   "outputs": [],
   "source": [
    "from sklearn.model_selection import train_test_split\n",
    "train, test = train_test_split(model, test_size = 0.2, random_state =5)"
   ]
  },
  {
   "cell_type": "markdown",
   "metadata": {},
   "source": [
    "** Fitting a logistic regression model ** "
   ]
  },
  {
   "cell_type": "code",
   "execution_count": 38,
   "metadata": {
    "collapsed": false
   },
   "outputs": [
    {
     "name": "stderr",
     "output_type": "stream",
     "text": [
      "C:\\Users\\BeckyC\\AppData\\Local\\Continuum\\Anaconda3\\lib\\site-packages\\sklearn\\utils\\validation.py:526: DataConversionWarning: A column-vector y was passed when a 1d array was expected. Please change the shape of y to (n_samples, ), for example using ravel().\n",
      "  y = column_or_1d(y, warn=True)\n"
     ]
    },
    {
     "data": {
      "text/plain": [
       "LogisticRegression(C=1.0, class_weight=None, dual=False, fit_intercept=True,\n",
       "          intercept_scaling=1, max_iter=100, multi_class='ovr', n_jobs=1,\n",
       "          penalty='l2', random_state=None, solver='liblinear', tol=0.0001,\n",
       "          verbose=0, warm_start=False)"
      ]
     },
     "execution_count": 38,
     "metadata": {},
     "output_type": "execute_result"
    }
   ],
   "source": [
    "from sklearn.linear_model import LogisticRegression\n",
    "\n",
    "lm = LogisticRegression()\n",
    "y = train[['responded']]\n",
    "\n",
    "#1st interation \n",
    "# X = train.iloc[:,1:22].drop('ratioaskstoresponsel12mths', axis=1) #cutting responded from the first column\n",
    "                             \n",
    "                             \n",
    "#2nd iteration after filtering high p-values \n",
    "# X = train.iloc[:,1:22].drop(['ratioaskstoresponsel12mths','mosaic_D', 'mosaic_G'], axis=1)\n",
    "\n",
    "#3rd iteration after calculating information value below\n",
    "X = train[predictive.Variable] # predictive is the output from IV calc further down\n",
    "\n",
    "lm.fit(X,y)"
   ]
  },
  {
   "cell_type": "code",
   "execution_count": 13,
   "metadata": {
    "collapsed": false
   },
   "outputs": [
    {
     "name": "stdout",
     "output_type": "stream",
     "text": [
      "accuracy at default 0.5 threshold : 0.977881903235\n"
     ]
    }
   ],
   "source": [
    "from sklearn import metrics\n",
    "test['y_pred'] = lm.predict(test[X.columns]) \n",
    "print('accuracy at default 0.5 threshold :',metrics.accuracy_score(test.responded, test.y_pred))"
   ]
  },
  {
   "cell_type": "markdown",
   "metadata": {},
   "source": [
    " The accuracy is really high, but at a treshold of 0.5 the table below confirms that the model doest predict any responses! So the threshold needs to be adjusted using a ROC curve."
   ]
  },
  {
   "cell_type": "code",
   "execution_count": 14,
   "metadata": {
    "collapsed": false
   },
   "outputs": [
    {
     "data": {
      "text/html": [
       "<div>\n",
       "<table border=\"1\" class=\"dataframe\">\n",
       "  <thead>\n",
       "    <tr style=\"text-align: right;\">\n",
       "      <th>y_pred</th>\n",
       "      <th>0</th>\n",
       "    </tr>\n",
       "    <tr>\n",
       "      <th>responded</th>\n",
       "      <th></th>\n",
       "    </tr>\n",
       "  </thead>\n",
       "  <tbody>\n",
       "    <tr>\n",
       "      <th>0</th>\n",
       "      <td>63444</td>\n",
       "    </tr>\n",
       "    <tr>\n",
       "      <th>1</th>\n",
       "      <td>1435</td>\n",
       "    </tr>\n",
       "  </tbody>\n",
       "</table>\n",
       "</div>"
      ],
      "text/plain": [
       "y_pred         0\n",
       "responded       \n",
       "0          63444\n",
       "1           1435"
      ]
     },
     "execution_count": 14,
     "metadata": {},
     "output_type": "execute_result"
    }
   ],
   "source": [
    "# (y_pred == test.responded).value_counts()\n",
    "pd.crosstab(test.responded,test.y_pred)"
   ]
  },
  {
   "cell_type": "markdown",
   "metadata": {},
   "source": [
    "** Cross validation ** "
   ]
  },
  {
   "cell_type": "code",
   "execution_count": 13,
   "metadata": {
    "collapsed": false
   },
   "outputs": [
    {
     "name": "stderr",
     "output_type": "stream",
     "text": [
      "C:\\Users\\BeckyC\\AppData\\Local\\Continuum\\Anaconda3\\lib\\site-packages\\sklearn\\cross_validation.py:44: DeprecationWarning: This module was deprecated in version 0.18 in favor of the model_selection module into which all the refactored classes and functions are moved. Also note that the interface of the new CV iterators are different from that of this module. This module will be removed in 0.20.\n",
      "  \"This module will be removed in 0.20.\", DeprecationWarning)\n"
     ]
    },
    {
     "name": "stdout",
     "output_type": "stream",
     "text": [
      "mean auc from Cv folds: 0.851112076859\n"
     ]
    }
   ],
   "source": [
    "from sklearn.cross_validation import KFold, cross_val_score\n",
    "\n",
    "# split the dataset using K-folds\n",
    "kf = KFold(len(train), n_folds=10, shuffle=False)\n",
    "\n",
    "print('mean auc from Cv folds:', \n",
    "      cross_val_score(lm, # this is estimator above.\n",
    "                      X,\n",
    "                      train['responded'],\n",
    "                      scoring = 'roc_auc',\n",
    "                      cv=kf).mean())\n",
    "\n",
    "##using cross_val_score is the equivalent of saying (this is pseudo code);\n",
    "# lm.fit(X[train_indices], y[train_indices]). #train on the training cv \n",
    "#                        score(X[test_indices],y[test_indices]) # validate on the test cv\n",
    "\n"
   ]
  },
  {
   "cell_type": "markdown",
   "metadata": {},
   "source": [
    "I wanted to understand why the fit command could be applied first and cross validaton second and realised that cross validation will inevitably use all of the training set to build the model, so cross validation doesn't alter the model fit. But each 'test' fold is used to validate the models ability to fit different cross sections of the data - I guess the clues in the name - cross VALIDATION."
   ]
  },
  {
   "cell_type": "markdown",
   "metadata": {},
   "source": [
    "### Testing LogisticRegressionCV\n",
    "I also came across LogisticRegressionCV estimator and thought encorporating CV might be more efficient.  \n",
    "Unlike LogisticRegression() the CV estimator also searches different C values (generalising the model and adding an amount of error which improves the models performance on unseen data).   \n",
    "Cs values by default use the value 10 and take ten values in a logarithmic scale between 1e-4 and 1e4 - this is all well documented on sklearn.  \n",
    "The *refit* param defaults to True, this means that the best estimator is used to calculated the scores_ and coefficients_"
   ]
  },
  {
   "cell_type": "code",
   "execution_count": 16,
   "metadata": {
    "collapsed": false
   },
   "outputs": [
    {
     "name": "stdout",
     "output_type": "stream",
     "text": [
      "Best auc_roc: 0.857761963961\n"
     ]
    }
   ],
   "source": [
    "## Just out of curiosity using LogisticRegressionCV\n",
    "from sklearn.linear_model import LogisticRegressionCV\n",
    "lm2 = LogisticRegressionCV(cv= kf, \n",
    "                           Cs=list(np.power(10.0, np.arange(-10, 10))), \n",
    "                           scoring='roc_auc',\n",
    "                           random_state=5)\n",
    "lm2.fit(X,train['responded'])\n",
    "\n",
    "lm2.scores_[1].mean() #0.85503718002197249\n",
    "# taking the mean above is the average auc for all C iterations, whilst below takes the average for \n",
    "# each C iteration (across 10 folds) and then returns the max, aka the best.\n",
    "print ('Best auc_roc:', lm2.scores_[1].mean(axis=0).max())  # is correct"
   ]
  },
  {
   "cell_type": "markdown",
   "metadata": {},
   "source": [
    "The 0.857 auc is marginally improved from LogisiticRegressionCV compared to 0.851 from the LogisticRegression estimator.  \n",
    "\n",
    "** The lm2 model will be used from here on as the AUC is greater.** "
   ]
  },
  {
   "cell_type": "markdown",
   "metadata": {},
   "source": [
    "** P values ** "
   ]
  },
  {
   "cell_type": "code",
   "execution_count": 12,
   "metadata": {
    "collapsed": false
   },
   "outputs": [
    {
     "name": "stdout",
     "output_type": "stream",
     "text": [
      "intercept [-0.05217186]\n",
      "mthssincelastdonation 0.0\n",
      "campaigner 5.30072726062e-166\n",
      "gaflag 0.0132290733538\n",
      "haspledge 2.49052616778e-54\n",
      "mosaic_A 3.36757803635e-07\n",
      "mosaic_B 8.93269141902e-20\n",
      "mosaic_C 2.01024268749e-18\n",
      "mosaic_D 0.06708075967\n",
      "mosaic_E 2.48649635993e-66\n",
      "mosaic_F 1.5359994151e-05\n",
      "mosaic_G 0.675552235251\n",
      "mosaic_H 0.00057265138131\n",
      "mosaic_I 9.23912645991e-18\n",
      "mosaic_J 2.937832791e-07\n",
      "mosaic_K 2.53301620439e-34\n",
      "mosaic_L 1.85361794101e-13\n",
      "mosaic_M 0.0359537408121\n",
      "mosaic_N 1.78579292881e-21\n",
      "nopreviouscash 0.0\n",
      "ratioaskstoresponsel12mths_reversed 3.28696011883e-43\n"
     ]
    }
   ],
   "source": [
    "# np.set_printoptions(suppress=True, precision = 4)\n",
    "from sklearn.feature_selection import chi2\n",
    "scores, pvalues = chi2(X, y)\n",
    "\n",
    "for p in range(len(pvalues)):\n",
    "    print(X.columns[p], pvalues[p])"
   ]
  },
  {
   "cell_type": "markdown",
   "metadata": {},
   "source": [
    "Mosaic group D & G aren't signficant - removed these features from the model fit higher up the code. "
   ]
  },
  {
   "cell_type": "markdown",
   "metadata": {},
   "source": [
    "** Feature predictiveness ** using information value"
   ]
  },
  {
   "cell_type": "code",
   "execution_count": 10,
   "metadata": {
    "collapsed": true
   },
   "outputs": [],
   "source": [
    "# defining a function \n",
    "def IV(feature, outcome, data):\n",
    "    #d - dist, 1/0= legate/dnl, 1/0 = feature true or false \n",
    "    d11= data.iloc[:,0][(data[feature]==1) & (data[outcome]==1) ].count()/ data.iloc[:,0][data[outcome]==1].count()\n",
    "    d10= data.iloc[:,0][(data[feature]==0) & (data[outcome]==1) ].count()/ data.iloc[:,0][data[outcome]==1].count()\n",
    "\n",
    "    d01=data.iloc[:,0][(data[feature]==1) & (data[outcome]==0) ].count()/ data.iloc[:,0][data[outcome]==0].count()\n",
    "    d00=data.iloc[:,0][(data[feature]==0) & (data[outcome]==0) ].count()/ data.iloc[:,0][data[outcome]==0].count()\n",
    "    \n",
    "    woe_true = np.log(d10/d00)\n",
    "    woe_false = np.log(d11/d01)\n",
    "    dist_true = d10-d00\n",
    "    dist_false = d11-d01\n",
    "    IV = woe_true * dist_true + woe_false * dist_false\n",
    "    if IV > 0.3:\n",
    "        status = 'strong'\n",
    "    elif IV >=0.1:\n",
    "        status ='medium'\n",
    "    elif IV >=0.02:\n",
    "        status = 'weak'\n",
    "    else:\n",
    "        status ='unpredictive'\n",
    "            \n",
    "    return IV #print(feature, ':',status, \":\", IV ) # uncomment this and below to print out all values:\n",
    "\n",
    "# for f in X[sig.Variable]:\n",
    "#     IV(f,'legatorflag',train)"
   ]
  },
  {
   "cell_type": "code",
   "execution_count": 17,
   "metadata": {
    "collapsed": false
   },
   "outputs": [
    {
     "data": {
      "text/html": [
       "<div>\n",
       "<table border=\"1\" class=\"dataframe\">\n",
       "  <thead>\n",
       "    <tr style=\"text-align: right;\">\n",
       "      <th></th>\n",
       "      <th>IV</th>\n",
       "      <th>Variable</th>\n",
       "    </tr>\n",
       "  </thead>\n",
       "  <tbody>\n",
       "    <tr>\n",
       "      <th>7</th>\n",
       "      <td>1.639071</td>\n",
       "      <td>nopreviouscash</td>\n",
       "    </tr>\n",
       "    <tr>\n",
       "      <th>0</th>\n",
       "      <td>0.178262</td>\n",
       "      <td>mthssincelastdonation</td>\n",
       "    </tr>\n",
       "    <tr>\n",
       "      <th>2</th>\n",
       "      <td>0.095975</td>\n",
       "      <td>haspledge</td>\n",
       "    </tr>\n",
       "    <tr>\n",
       "      <th>1</th>\n",
       "      <td>0.085870</td>\n",
       "      <td>campaigner</td>\n",
       "    </tr>\n",
       "    <tr>\n",
       "      <th>5</th>\n",
       "      <td>0.045785</td>\n",
       "      <td>mosaic_K</td>\n",
       "    </tr>\n",
       "    <tr>\n",
       "      <th>3</th>\n",
       "      <td>0.045285</td>\n",
       "      <td>mosaic_E</td>\n",
       "    </tr>\n",
       "    <tr>\n",
       "      <th>6</th>\n",
       "      <td>0.023158</td>\n",
       "      <td>mosaic_N</td>\n",
       "    </tr>\n",
       "    <tr>\n",
       "      <th>4</th>\n",
       "      <td>0.020176</td>\n",
       "      <td>mosaic_I</td>\n",
       "    </tr>\n",
       "  </tbody>\n",
       "</table>\n",
       "</div>"
      ],
      "text/plain": [
       "         IV               Variable\n",
       "7  1.639071         nopreviouscash\n",
       "0  0.178262  mthssincelastdonation\n",
       "2  0.095975              haspledge\n",
       "1  0.085870             campaigner\n",
       "5  0.045785               mosaic_K\n",
       "3  0.045285               mosaic_E\n",
       "6  0.023158               mosaic_N\n",
       "4  0.020176               mosaic_I"
      ]
     },
     "execution_count": 17,
     "metadata": {},
     "output_type": "execute_result"
    }
   ],
   "source": [
    "## Calculating Information Value for significant variables.\n",
    "i = []\n",
    "for var in X.columns:\n",
    "    i.append({'Variable': X[var].name, \n",
    "              'IV': IV(var,'responded',train)})\n",
    "\n",
    "df_i= pd.DataFrame(i)\n",
    "\n",
    "predictive = df_i[(df_i['IV']>=0.02)] ## keeping anything that is weak or above\n",
    "df_i.sort_values('IV', ascending =False)"
   ]
  },
  {
   "cell_type": "markdown",
   "metadata": {},
   "source": [
    "Adjusted \"X\" in the model fit further up the code and referred to the \"predictive\" subset of features "
   ]
  },
  {
   "cell_type": "markdown",
   "metadata": {},
   "source": [
    "** Coefficients ** "
   ]
  },
  {
   "cell_type": "code",
   "execution_count": 41,
   "metadata": {
    "collapsed": false
   },
   "outputs": [
    {
     "name": "stdout",
     "output_type": "stream",
     "text": [
      "intercept: [-2.55679906]\n"
     ]
    },
    {
     "data": {
      "text/plain": [
       "[{'Variable': 'mthssincelastdonation', 'coef': array([-0.00319615])},\n",
       " {'Variable': 'campaigner', 'coef': array([ 0.02477129])},\n",
       " {'Variable': 'haspledge', 'coef': array([-0.00200749])},\n",
       " {'Variable': 'mosaic_E', 'coef': array([ 0.01023512])},\n",
       " {'Variable': 'mosaic_I', 'coef': array([-0.00186041])},\n",
       " {'Variable': 'mosaic_K', 'coef': array([-0.00277686])},\n",
       " {'Variable': 'mosaic_N', 'coef': array([-0.00458025])},\n",
       " {'Variable': 'nopreviouscash', 'coef': array([ 0.01057965])}]"
      ]
     },
     "execution_count": 41,
     "metadata": {},
     "output_type": "execute_result"
    }
   ],
   "source": [
    "#LogisticRegression\n",
    "coef = []\n",
    "for n in range(len(X.columns)):\n",
    "     coef.append({'Variable': X.columns[n], 'coef': lm2.coef_[:,n]})\n",
    "print(\"intercept:\", lm2.intercept_) \n",
    "coef "
   ]
  },
  {
   "cell_type": "markdown",
   "metadata": {},
   "source": [
    "The coefficients above are expressed in Log Odds.  Each unit increase in X (predictor) results in a change to the log odds by the value of the coefficient. If the coefficient is positive then increasing X will result in an increasing probability, if the coefficient is negative then increasing X will result in a decreasing p(X).  \n",
    "\n",
    "If the coefficient for campaigner is 0.02 - the value is positive so if you are a Campaigner then the probability of donating will increase; Campaigner is a binary 1 or 0 flag.\n",
    "\n",
    "Converting odds to probability  = p(X)/ 1-p(X)\n",
    "\n",
    "Probability of leaving a legacy if you are a Campaigner =   \n",
    "(this is for illustration only, as the coefficient for Miss must be used in the context of all other coefficients)   \n",
    "p(Donate) = exp(intercept+coef x 1)   \n",
    "\t\t/ 1+exp(intercept+coef x 1)  \n",
    "        \n",
    "p(Legacy) where *Campaigner =1*  \n",
    "= exp(-2.55 + 0.02 x 1)/1+exp(-2.49 + 0.02 x 1)   \n",
    "= 0.023639  \n",
    "= **7.4% chance ** that the supporter will donate.\n",
    "\n",
    "p(Legacy) where *Miss =0*  \n",
    "= exp(-2.55 + 0.02 x 0)/1+exp(-2.49 + 0.02 x 0)   \n",
    "= 0.023639  \n",
    "= ** 7.2% chance ** that the supporter will donate.\n"
   ]
  },
  {
   "cell_type": "markdown",
   "metadata": {},
   "source": [
    "### Area under the Curve (AUC) - test data"
   ]
  },
  {
   "cell_type": "code",
   "execution_count": 18,
   "metadata": {
    "collapsed": false
   },
   "outputs": [
    {
     "name": "stdout",
     "output_type": "stream",
     "text": [
      "test auc 0.858910022326\n"
     ]
    },
    {
     "data": {
      "image/png": "[encoded data removed]",
      "text/plain": [
       "<matplotlib.figure.Figure at 0x181fba20>"
      ]
     },
     "metadata": {},
     "output_type": "display_data"
    }
   ],
   "source": [
    "from sklearn.metrics import (roc_curve, roc_auc_score,)\n",
    "\n",
    "test['y_prob'] =lm2.predict_proba(test[predictive.Variable])[:,1]\n",
    "\n",
    "plt.plot(roc_curve(test.responded, test.y_prob)[0], roc_curve(test.responded, test.y_prob)[1])\n",
    "print('test auc', roc_auc_score(test.responded, test.y_prob)) "
   ]
  },
  {
   "cell_type": "markdown",
   "metadata": {},
   "source": [
    "AUC is acceptably high, the CV auc was also 0.85, so this tells us that the model is effective at predicting donate/does not donate on the unseen test data."
   ]
  },
  {
   "cell_type": "code",
   "execution_count": 19,
   "metadata": {
    "collapsed": false
   },
   "outputs": [
    {
     "data": {
      "text/html": [
       "<div>\n",
       "<table border=\"1\" class=\"dataframe\">\n",
       "  <thead>\n",
       "    <tr style=\"text-align: right;\">\n",
       "      <th></th>\n",
       "      <th>fpr</th>\n",
       "      <th>tpr</th>\n",
       "      <th>threshold</th>\n",
       "    </tr>\n",
       "  </thead>\n",
       "  <tbody>\n",
       "    <tr>\n",
       "      <th>1063</th>\n",
       "      <td>0.25</td>\n",
       "      <td>0.844599</td>\n",
       "      <td>0.051273</td>\n",
       "    </tr>\n",
       "  </tbody>\n",
       "</table>\n",
       "</div>"
      ],
      "text/plain": [
       "       fpr       tpr  threshold\n",
       "1063  0.25  0.844599   0.051273"
      ]
     },
     "execution_count": 19,
     "metadata": {},
     "output_type": "execute_result"
    }
   ],
   "source": [
    "## Finding out the threshold at different rates of FPR\n",
    "roc= pd.DataFrame(roc_curve(test.responded, test.y_prob)[0]) #tpr\n",
    "roc = roc.rename(index=str,columns={0:'fpr'})\n",
    "roc['tpr']= roc_curve(test.responded, test.y_prob)[1] #tpr\n",
    "roc['threshold']= roc_curve(test.responded, test.y_prob)[2] #threshold\n",
    "\n",
    "roc[roc.fpr>=0.25].head(1)"
   ]
  },
  {
   "cell_type": "code",
   "execution_count": 42,
   "metadata": {
    "collapsed": false
   },
   "outputs": [
    {
     "name": "stdout",
     "output_type": "stream",
     "text": [
      "accuracy:  0.752554755776\n"
     ]
    },
    {
     "data": {
      "text/html": [
       "<div>\n",
       "<table border=\"1\" class=\"dataframe\">\n",
       "  <thead>\n",
       "    <tr style=\"text-align: right;\">\n",
       "      <th>y_pred</th>\n",
       "      <th>0</th>\n",
       "      <th>1</th>\n",
       "    </tr>\n",
       "    <tr>\n",
       "      <th>responded</th>\n",
       "      <th></th>\n",
       "      <th></th>\n",
       "    </tr>\n",
       "  </thead>\n",
       "  <tbody>\n",
       "    <tr>\n",
       "      <th>0</th>\n",
       "      <td>47613</td>\n",
       "      <td>15831</td>\n",
       "    </tr>\n",
       "    <tr>\n",
       "      <th>1</th>\n",
       "      <td>223</td>\n",
       "      <td>1212</td>\n",
       "    </tr>\n",
       "  </tbody>\n",
       "</table>\n",
       "</div>"
      ],
      "text/plain": [
       "y_pred         0      1\n",
       "responded              \n",
       "0          47613  15831\n",
       "1            223   1212"
      ]
     },
     "execution_count": 42,
     "metadata": {},
     "output_type": "execute_result"
    }
   ],
   "source": [
    "## redoing prediction based on above threshold \n",
    "test['y_pred']= test.y_prob.apply(lambda x: 1 if x>=0.051273 else 0) \n",
    "print('accuracy: ',metrics.accuracy_score(test.responded, test.y_pred))\n",
    "pd.crosstab(test.responded,test.y_pred)"
   ]
  },
  {
   "cell_type": "markdown",
   "metadata": {},
   "source": [
    "Accuracy drops as the model starts to make predictions on who will donate - this is to be expected.  if the model made no predictions and assumed nobody responded the accuracy would be 97.9% - because only 2.1% donate.  \n",
    "\n",
    "Adjusting the **treshold to 0.051273**  the model misses 223 of 1,435 (15%) true donations.  \n",
    "The model incorrectly identifies 15,831 supporters who will donate, this sounds high, but actually the models ability to correctly exclude 47,605 of non-responders presents a sizeable cost saving to the DM cash programme... \n",
    "\n",
    "Assuming each mail pack costs £1 and each donation is £20;  \n",
    "\n",
    "||cost|income|ROI|RR|\n",
    "|--|--|--|--|--|\n",
    "|With no model|-£65k|£29k|0.4|2.1%|\n",
    "|Threshold 0.051|-£17k|£24k|1.4|7.1%|\n",
    "\n",
    "If we were to accept the models recommendation and target the \"predicted donate\" group the response rate would increase to 7.1%, we would receive c.85% of income but would be £43k better off, largely based on a cost saving of £47k.\n"
   ]
  },
  {
   "cell_type": "markdown",
   "metadata": {},
   "source": [
    "### Score Distribution"
   ]
  },
  {
   "cell_type": "code",
   "execution_count": 44,
   "metadata": {
    "collapsed": false
   },
   "outputs": [
    {
     "data": {
      "image/png": "[encoded data removed]",
      "text/plain": [
       "<matplotlib.figure.Figure at 0xb2a5390>"
      ]
     },
     "metadata": {},
     "output_type": "display_data"
    },
    {
     "name": "stdout",
     "output_type": "stream",
     "text": [
      "donate 1435\n",
      "did not donate 63444\n"
     ]
    }
   ],
   "source": [
    "plt.hist(test['y_prob'][test.responded==1], label = 'donate', normed=True, bins=10)\n",
    "plt.hist(test['y_prob'][test.responded==0], label = 'not donate',alpha=0.6, normed=True, bins=10)\n",
    "plt.title('Test data set')\n",
    "plt.legend()\n",
    "plt.show()\n",
    "\n",
    "print('donate', test['responded'][test.responded==1].count())\n",
    "print('did not donate', test['responded'][test.responded==0].count())"
   ]
  },
  {
   "cell_type": "markdown",
   "metadata": {},
   "source": [
    "## KNN "
   ]
  },
  {
   "cell_type": "code",
   "execution_count": 36,
   "metadata": {
    "collapsed": false
   },
   "outputs": [
    {
     "data": {
      "text/html": [
       "<div>\n",
       "<table border=\"1\" class=\"dataframe\">\n",
       "  <thead>\n",
       "    <tr style=\"text-align: right;\">\n",
       "      <th></th>\n",
       "      <th>nopreviouscash</th>\n",
       "      <th>haspledge</th>\n",
       "      <th>campaigner</th>\n",
       "    </tr>\n",
       "  </thead>\n",
       "  <tbody>\n",
       "    <tr>\n",
       "      <th>106685</th>\n",
       "      <td>1</td>\n",
       "      <td>0</td>\n",
       "      <td>0</td>\n",
       "    </tr>\n",
       "    <tr>\n",
       "      <th>237597</th>\n",
       "      <td>1</td>\n",
       "      <td>0</td>\n",
       "      <td>0</td>\n",
       "    </tr>\n",
       "    <tr>\n",
       "      <th>252813</th>\n",
       "      <td>0</td>\n",
       "      <td>1</td>\n",
       "      <td>0</td>\n",
       "    </tr>\n",
       "    <tr>\n",
       "      <th>264941</th>\n",
       "      <td>1</td>\n",
       "      <td>1</td>\n",
       "      <td>0</td>\n",
       "    </tr>\n",
       "    <tr>\n",
       "      <th>34412</th>\n",
       "      <td>0</td>\n",
       "      <td>0</td>\n",
       "      <td>0</td>\n",
       "    </tr>\n",
       "  </tbody>\n",
       "</table>\n",
       "</div>"
      ],
      "text/plain": [
       "        nopreviouscash  haspledge  campaigner\n",
       "106685               1          0           0\n",
       "237597               1          0           0\n",
       "252813               0          1           0\n",
       "264941               1          1           0\n",
       "34412                0          0           0"
      ]
     },
     "execution_count": 36,
     "metadata": {},
     "output_type": "execute_result"
    }
   ],
   "source": [
    "X.head()"
   ]
  },
  {
   "cell_type": "code",
   "execution_count": 37,
   "metadata": {
    "collapsed": false
   },
   "outputs": [],
   "source": [
    "from sklearn.neighbors import KNeighborsClassifier\n",
    "\n",
    "X = train[['nopreviouscash','mthssincelastdonation']] # reducing dimensions\n",
    "y = train['responded']\n",
    "\n",
    "knn= KNeighborsClassifier(n_neighbors=5, weights='uniform')\n",
    "\n",
    "knn.fit(X,y)\n",
    "train['knn_pred'] = knn.predict(X)\n",
    "\n",
    "\n",
    "# SHOULD BE ABLE TO DO A FOR LOOP TO  FIND THE OPTIMUM K VALUE, BUT THIS TOOK TOO LONG TO RUN.\n",
    "# k_values = range(1,20)\n",
    "# scores = []\n",
    "\n",
    "# for k in k_values:\n",
    "#     knn = KNeighborsClassifier(n_neighbors=k)                           \n",
    "                              \n",
    "#     knn.fit(X, y)\n",
    "#     scores.append(knn.score(X, y))\n",
    "# print(scores)\n",
    "\n",
    "# AN ALTERNATIVE INCLUDING CROSS VALIDATION - AGAIN TAKES TO LONG TO RUN, WOULD LIKE TO SEE IF AUC SCORING IS POSSIBLE.\n",
    "# for K in k_range:\n",
    "#     knn = KNeighborsClassifier(n_neighbors=K)\n",
    "#     scores = cross_val_score(knn, X, y, cv=10, scoring=\"accuracy\")\n",
    "#     k_scores.append(scores.mean())\n",
    "\n",
    "# THEN PLOT THE DIFFERENT K VALUES AND SCORES;\n",
    "# %matplotlib inline\n",
    "\n",
    "# plt.xlabel = 'K'\n",
    "# plt.plot(k_values,scores[1::2],)# this is saying start on the 1st row and step 2 \n",
    "#                                 # i.e. return all odd rows which is using distance\n"
   ]
  },
  {
   "cell_type": "code",
   "execution_count": 32,
   "metadata": {
    "collapsed": false
   },
   "outputs": [
    {
     "name": "stdout",
     "output_type": "stream",
     "text": [
      "accuracy:  0.977881903235\n"
     ]
    },
    {
     "data": {
      "text/html": [
       "<div>\n",
       "<table border=\"1\" class=\"dataframe\">\n",
       "  <thead>\n",
       "    <tr style=\"text-align: right;\">\n",
       "      <th>knn_pred</th>\n",
       "      <th>0</th>\n",
       "    </tr>\n",
       "    <tr>\n",
       "      <th>responded</th>\n",
       "      <th></th>\n",
       "    </tr>\n",
       "  </thead>\n",
       "  <tbody>\n",
       "    <tr>\n",
       "      <th>0</th>\n",
       "      <td>63444</td>\n",
       "    </tr>\n",
       "    <tr>\n",
       "      <th>1</th>\n",
       "      <td>1435</td>\n",
       "    </tr>\n",
       "  </tbody>\n",
       "</table>\n",
       "</div>"
      ],
      "text/plain": [
       "knn_pred       0\n",
       "responded       \n",
       "0          63444\n",
       "1           1435"
      ]
     },
     "execution_count": 32,
     "metadata": {},
     "output_type": "execute_result"
    }
   ],
   "source": [
    "from sklearn import metrics\n",
    "train.head()\n",
    "\n",
    "test['knn_pred'] = knn.predict(test[X.columns])\n",
    "test['knn_prob'] = knn.predict_proba(test[X.columns])\n",
    "\n",
    "print('accuracy: ',metrics.accuracy_score(test.responded, test.knn_pred))\n",
    "pd.crosstab(test.responded,test.knn_pred)"
   ]
  },
  {
   "cell_type": "markdown",
   "metadata": {},
   "source": [
    "KNN, like the LR 0.5 threhold, doesn't assign a class 1/ True prediction to any of the observations.    \n",
    "Does using a different number of neighbours affect this?  \n",
    "\n",
    "** NB the KNN models below iterating K values takes too long, so haven't sucessfully let it run.  **"
   ]
  },
  {
   "cell_type": "code",
   "execution_count": null,
   "metadata": {
    "collapsed": true
   },
   "outputs": [],
   "source": [
    "# confirm optimum KNN model - TBC - WASN'T ABLE TO GET THIS FAR AS I COULDN'T TEST K VALUES.\n",
    "knn = KNeighborsClassifier(n_neighbors=18)\n",
    "cross_val_score(knn, X, y, cv=10, scoring=\"accuracy\").mean()"
   ]
  },
  {
   "cell_type": "markdown",
   "metadata": {},
   "source": [
    "It seems that **logistic regression is better suited to this problem**. I would suggest this is because the proportion of responders is relatively small (2% of the sample) and the predictors are not very strong - there isn't a decisive feature that can confidently split responders and non-responders. Furthermore, KNN works best with fewer features, but most of the features are binary.  As KNN uses the distance from the target observation to K neighbours to calculate the probability of each class, then you can imagine a binary value creates a equal distance for many observations, rather than a continous variable that spreads out your observations allowing you to draw a disecting line.  \n",
    "\n",
    "I think because of the binary nature of most of the features to create some discrimination in the data, we need to use several features - aka better suited to logistic regression, plus a AUC of 85% is perfectly acceptable.\n",
    "\n",
    "The KNN estimator took a long time to run, so it seems it's a less efficient technique with the volume of data I'm using."
   ]
  }
 ],
 "metadata": {
  "kernelspec": {
   "display_name": "Python 3",
   "language": "python",
   "name": "python3"
  },
  "language_info": {
   "codemirror_mode": {
    "name": "ipython",
    "version": 3
   },
   "file_extension": ".py",
   "mimetype": "text/x-python",
   "name": "python",
   "nbconvert_exporter": "python",
   "pygments_lexer": "ipython3",
   "version": "3.6.0"
  }
 },
 "nbformat": 4,
 "nbformat_minor": 2
}
